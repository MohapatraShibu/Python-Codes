{
 "cells": [
  {
   "cell_type": "code",
   "execution_count": 4,
   "metadata": {},
   "outputs": [
    {
     "name": "stdout",
     "output_type": "stream",
     "text": [
      "The account is created\n",
      "The deposit is successful and the balance in the account is %f 10000.0\n",
      "The withdraw is successful and the balance is %f 5000.0\n",
      "Balance in the account is %f 5000.0\n"
     ]
    }
   ],
   "source": [
    "# Write a program using classes & objects to deposit & withdraw money in a bank account\n",
    "\n",
    "class Bank:\n",
    "    def __init__(self):\n",
    "        self.balance = 0\n",
    "        print (\"The account is created\")\n",
    "        \n",
    "    def deposit(self):\n",
    "        amount = float(input(\"Enter the amount to be deposit: \"))\n",
    "        self.balance = self.balance + amount\n",
    "        print (\"The deposit is successful and the balance in the account is %f\", self.balance)\n",
    "    \n",
    "    def withdraw(self):\n",
    "        amount = float(input(\"Enter the amount to withdraw: \"))\n",
    "        if (self.balance >= amount):\n",
    "            self.balance = self.balance - amount\n",
    "            print (\"The withdraw is successful and the balance is %f\", self.balance)\n",
    "        else:\n",
    "            print ('Insuficient Balance')\n",
    "    \n",
    "    def enquiry(self):\n",
    "        print (\"Balance in the account is %f\", self.balance)\n",
    "        \n",
    "\n",
    "acc = Bank()\n",
    "acc.deposit()\n",
    "acc.withdraw()\n",
    "acc.enquiry()"
   ]
  }
 ],
 "metadata": {
  "interpreter": {
   "hash": "e2fb31f127fed1e79f709faf34890f85681c06e7e30d28a328e5c7500cdf6725"
  },
  "kernelspec": {
   "display_name": "Python 3.7.9 64-bit",
   "name": "python3"
  },
  "language_info": {
   "codemirror_mode": {
    "name": "ipython",
    "version": 3
   },
   "file_extension": ".py",
   "mimetype": "text/x-python",
   "name": "python",
   "nbconvert_exporter": "python",
   "pygments_lexer": "ipython3",
   "version": "3.7.9"
  },
  "orig_nbformat": 4
 },
 "nbformat": 4,
 "nbformat_minor": 2
}
