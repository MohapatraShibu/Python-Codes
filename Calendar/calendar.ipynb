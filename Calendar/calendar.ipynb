{
 "cells": [
  {
   "cell_type": "code",
   "execution_count": 2,
   "metadata": {},
   "outputs": [],
   "source": [
    "# #Importing tkinter module (the standard GUI library for Python)\n",
    "from tkinter import *\n",
    "import calendar\n",
    "\n",
    "def showCal() :\n",
    "\tnew_gui = Tk()\n",
    "\tnew_gui.config(background = \"white\")\n",
    "\tnew_gui.title(\"CALENDAR\")\n",
    "\tnew_gui.geometry(\"550x600\")\n",
    "\tfetch_year = int(year_field.get())\n",
    "\tcal_content = calendar.calendar(fetch_year)\n",
    "\tcal_year = Label(new_gui, text = cal_content, font = \"Consolas 10 bold\")\n",
    "\tcal_year.grid(row = 5, column = 1, padx = 20)\n",
    "\tnew_gui.mainloop()\n",
    "\n",
    "# Driver Code\n",
    "if __name__ == \"__main__\" :\n",
    "\tgui = Tk()\n",
    "\tgui.config(background = \"white\")\n",
    "\tgui.title(\"CALENDAR\")\n",
    "\tgui.geometry(\"250x140\")\n",
    "\tcal = Label(gui, text = \"CALENDAR\", bg = \"dark gray\",\n",
    "\t\t\t\t\t\t\tfont = (\"times\", 28, 'bold'))\n",
    "\n",
    "\tyear = Label(gui, text = \"Enter Year\", bg = \"light green\")\n",
    "\tyear_field = Entry(gui)\n",
    "\tShow = Button(gui, text = \"Show Calendar\", fg = \"Black\",\n",
    "\t\t\t\t\t\t\tbg = \"Red\", command = showCal)\n",
    "\tExit = Button(gui, text = \"Exit\", fg = \"Black\", bg = \"Red\", command = exit)\n",
    "\tcal.grid(row = 1, column = 1)\n",
    "\tyear.grid(row = 2, column = 1)\n",
    "\tyear_field.grid(row = 3, column = 1)\n",
    "\tShow.grid(row = 4, column = 1)\n",
    "\tExit.grid(row = 6, column = 1)\n",
    "\n",
    "\tgui.mainloop()"
   ]
  }
 ],
 "metadata": {
  "interpreter": {
   "hash": "e2fb31f127fed1e79f709faf34890f85681c06e7e30d28a328e5c7500cdf6725"
  },
  "kernelspec": {
   "display_name": "Python 3.7.9 64-bit",
   "name": "python3"
  },
  "language_info": {
   "codemirror_mode": {
    "name": "ipython",
    "version": 3
   },
   "file_extension": ".py",
   "mimetype": "text/x-python",
   "name": "python",
   "nbconvert_exporter": "python",
   "pygments_lexer": "ipython3",
   "version": "3.7.9"
  },
  "orig_nbformat": 4
 },
 "nbformat": 4,
 "nbformat_minor": 2
}
