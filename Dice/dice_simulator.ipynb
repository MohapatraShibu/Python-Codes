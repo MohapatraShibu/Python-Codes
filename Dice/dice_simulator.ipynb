{
 "cells": [
  {
   "cell_type": "code",
   "execution_count": 11,
   "metadata": {},
   "outputs": [],
   "source": [
    "# dice roll with python\n",
    "# dice roll siulator with python\n",
    "# importing module for random number generation\n",
    "import random"
   ]
  },
  {
   "cell_type": "code",
   "execution_count": 15,
   "metadata": {},
   "outputs": [],
   "source": [
    "# range of the values of the dice\n",
    "min_val=1\n",
    "max_val=6"
   ]
  },
  {
   "cell_type": "code",
   "execution_count": 17,
   "metadata": {},
   "outputs": [],
   "source": [
    "# to loop the rolling through input\n",
    "roll_again=\"yes\""
   ]
  },
  {
   "cell_type": "code",
   "execution_count": 18,
   "metadata": {},
   "outputs": [
    {
     "name": "stdout",
     "output_type": "stream",
     "text": [
      "rolling dice...\n",
      "values are:\n",
      "6\n",
      "3\n",
      "rolling dice...\n",
      "values are:\n",
      "2\n",
      "1\n",
      "rolling dice...\n",
      "values are:\n",
      "1\n",
      "6\n",
      "rolling dice...\n",
      "values are:\n",
      "3\n",
      "3\n",
      "rolling dice...\n",
      "values are:\n",
      "5\n",
      "1\n",
      "rolling dice...\n",
      "values are:\n",
      "6\n",
      "2\n"
     ]
    }
   ],
   "source": [
    "# loop\n",
    "while roll_again==\"yes\" or roll_again==\"y\":\n",
    "    print(\"rolling dice...\")\n",
    "    print(\"values are:\")\n",
    "    print(random.randint(min_val, max_val))\n",
    "    print(random.randint(min_val, max_val))\n",
    "    roll_again=input(\"Roll the dices again?\")"
   ]
  }
 ],
 "metadata": {
  "interpreter": {
   "hash": "e2fb31f127fed1e79f709faf34890f85681c06e7e30d28a328e5c7500cdf6725"
  },
  "kernelspec": {
   "display_name": "Python 3.7.9 64-bit",
   "name": "python3"
  },
  "language_info": {
   "codemirror_mode": {
    "name": "ipython",
    "version": 3
   },
   "file_extension": ".py",
   "mimetype": "text/x-python",
   "name": "python",
   "nbconvert_exporter": "python",
   "pygments_lexer": "ipython3",
   "version": "3.7.9"
  },
  "orig_nbformat": 4
 },
 "nbformat": 4,
 "nbformat_minor": 2
}
