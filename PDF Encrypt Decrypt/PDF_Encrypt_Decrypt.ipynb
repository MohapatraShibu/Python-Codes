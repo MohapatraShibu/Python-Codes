{
 "cells": [
  {
   "cell_type": "code",
   "execution_count": 1,
   "id": "218965ff",
   "metadata": {},
   "outputs": [
    {
     "name": "stdout",
     "output_type": "stream",
     "text": [
      "Collecting PyPDF2\n",
      "  Using cached PyPDF2-1.26.0.tar.gz (77 kB)\n",
      "Using legacy setup.py install for PyPDF2, since package 'wheel' is not installed.\n",
      "Installing collected packages: PyPDF2\n",
      "    Running setup.py install for PyPDF2: started\n",
      "    Running setup.py install for PyPDF2: finished with status 'done'\n",
      "Successfully installed PyPDF2-1.26.0\n"
     ]
    },
    {
     "name": "stderr",
     "output_type": "stream",
     "text": [
      "WARNING: You are using pip version 20.1.1; however, version 21.2.4 is available.\n",
      "You should consider upgrading via the 'c:\\users\\hp\\appdata\\local\\programs\\python\\python37\\python.exe -m pip install --upgrade pip' command.\n"
     ]
    }
   ],
   "source": [
    "#PDF ENCRYPTION\n",
    "!pip install PyPDF2"
   ]
  },
  {
   "cell_type": "code",
   "execution_count": 17,
   "id": "7dae27d4",
   "metadata": {},
   "outputs": [],
   "source": [
    "from PyPDF2 import PdfFileReader, PdfFileWriter"
   ]
  },
  {
   "cell_type": "code",
   "execution_count": 5,
   "id": "3cb192bc",
   "metadata": {},
   "outputs": [],
   "source": [
    "file_pdf=PdfFileReader(\"a1.pdf\")\n",
    "out_pdf=PdfFileWriter()"
   ]
  },
  {
   "cell_type": "code",
   "execution_count": 18,
   "id": "709b4982",
   "metadata": {},
   "outputs": [
    {
     "data": {
      "text/plain": [
       "<PyPDF2.pdf.PdfFileReader at 0x1c8a7ce0548>"
      ]
     },
     "execution_count": 18,
     "metadata": {},
     "output_type": "execute_result"
    }
   ],
   "source": [
    "file_pdf"
   ]
  },
  {
   "cell_type": "code",
   "execution_count": 19,
   "id": "fd7b68aa",
   "metadata": {},
   "outputs": [],
   "source": [
    "# download and upload the file whenever we will execute\n",
    "\n",
    "for i in range(file_pdf.numPages):\n",
    "    page_details=file_pdf.getPage(i)\n",
    "    out_pdf.addPage(page_details)"
   ]
  },
  {
   "cell_type": "code",
   "execution_count": 20,
   "id": "73441263",
   "metadata": {},
   "outputs": [],
   "source": [
    "password=\"shibu@456\""
   ]
  },
  {
   "cell_type": "code",
   "execution_count": 21,
   "id": "0cc1b8fb",
   "metadata": {},
   "outputs": [],
   "source": [
    "out_pdf.encrypt(password)"
   ]
  },
  {
   "cell_type": "code",
   "execution_count": 22,
   "id": "01f4d4ce",
   "metadata": {},
   "outputs": [],
   "source": [
    "with open(\"a1.pdf\", \"wb\")as filename:\n",
    "    out_pdf.write(filename)"
   ]
  },
  {
   "cell_type": "code",
   "execution_count": 23,
   "id": "dff42e94",
   "metadata": {},
   "outputs": [],
   "source": [
    "#PDF DECRYPTION\n",
    "\n",
    "from PyPDF2 import PdfFileWriter, PdfFileReader\n",
    "\n",
    "out = PdfFileWriter()"
   ]
  },
  {
   "cell_type": "code",
   "execution_count": 24,
   "id": "f551e322",
   "metadata": {},
   "outputs": [],
   "source": [
    "file = PdfFileReader(\"a1.pdf\")"
   ]
  },
  {
   "cell_type": "code",
   "execution_count": 25,
   "id": "7fda4af9",
   "metadata": {},
   "outputs": [],
   "source": [
    "password = \"shibu@456\""
   ]
  },
  {
   "cell_type": "code",
   "execution_count": 26,
   "id": "1a4e63eb",
   "metadata": {},
   "outputs": [
    {
     "name": "stdout",
     "output_type": "stream",
     "text": [
      "File decrypted Successfully.\n"
     ]
    }
   ],
   "source": [
    "if file.isEncrypted:\n",
    "    file.decrypt(password)\n",
    "\n",
    "    for i in range(file.numPages):\n",
    "        page = file.getPage(i)\n",
    "        out.addPage(page)\n",
    "        \n",
    "    with open(\"a1.pdf\", \"wb\") as f:\n",
    "        out.write(f)\n",
    "    print(\"File decrypted Successfully.\")\n",
    "\n",
    "else:\n",
    "    print(\"File already decrypted.\")\n"
   ]
  }
 ],
 "metadata": {
  "interpreter": {
   "hash": "e2fb31f127fed1e79f709faf34890f85681c06e7e30d28a328e5c7500cdf6725"
  },
  "kernelspec": {
   "display_name": "Python 3.7.9 64-bit",
   "name": "python3"
  },
  "language_info": {
   "codemirror_mode": {
    "name": "ipython",
    "version": 3
   },
   "file_extension": ".py",
   "mimetype": "text/x-python",
   "name": "python",
   "nbconvert_exporter": "python",
   "pygments_lexer": "ipython3",
   "version": "3.7.9"
  }
 },
 "nbformat": 4,
 "nbformat_minor": 5
}
