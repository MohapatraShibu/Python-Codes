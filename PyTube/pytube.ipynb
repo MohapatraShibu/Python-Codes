{
 "cells": [
  {
   "cell_type": "code",
   "execution_count": 2,
   "metadata": {},
   "outputs": [
    {
     "name": "stdout",
     "output_type": "stream",
     "text": [
      "Collecting pytube\n",
      "  Downloading pytube-11.0.1-py3-none-any.whl (56 kB)\n",
      "Installing collected packages: pytube\n",
      "Successfully installed pytube-11.0.1\n"
     ]
    },
    {
     "name": "stderr",
     "output_type": "stream",
     "text": [
      "WARNING: Ignoring invalid distribution -ywin32 (c:\\users\\hp\\appdata\\local\\programs\\python\\python37\\lib\\site-packages)\n",
      "WARNING: Ignoring invalid distribution -ywin32 (c:\\users\\hp\\appdata\\local\\programs\\python\\python37\\lib\\site-packages)\n",
      "WARNING: Ignoring invalid distribution -ywin32 (c:\\users\\hp\\appdata\\local\\programs\\python\\python37\\lib\\site-packages)\n",
      "WARNING: Ignoring invalid distribution -ywin32 (c:\\users\\hp\\appdata\\local\\programs\\python\\python37\\lib\\site-packages)\n",
      "WARNING: Ignoring invalid distribution -ywin32 (c:\\users\\hp\\appdata\\local\\programs\\python\\python37\\lib\\site-packages)\n",
      "WARNING: Ignoring invalid distribution -ywin32 (c:\\users\\hp\\appdata\\local\\programs\\python\\python37\\lib\\site-packages)\n"
     ]
    }
   ],
   "source": [
    "!pip install pytube"
   ]
  },
  {
   "cell_type": "code",
   "execution_count": 4,
   "metadata": {},
   "outputs": [
    {
     "name": "stdout",
     "output_type": "stream",
     "text": [
      "Download started\n",
      "Download completed\n",
      "Download location =  d:\\AI Python Pracs\\PyTube\\6M5VXKLf4D4.mp3\n"
     ]
    }
   ],
   "source": [
    "import os\n",
    "from pytube import YouTube\n",
    "import pytube\n",
    "\n",
    "# video to audio\n",
    "def main():\n",
    "    \n",
    "    video_url= str(input(\"Enter youtube URL : \"))\n",
    "\n",
    "    print (\"Download started\")\n",
    "    if os.name == 'nt':\n",
    "        path = os.getcwd() + '\\\\'\n",
    "    else:\n",
    "        path = os.getcwd() + '/'\n",
    "\n",
    "    name = pytube.extract.video_id(video_url)\n",
    "\n",
    "    #print(name)\n",
    "\n",
    "    #YouTube(video_url).streams.filter(file_extension=\"mp3\").first().download()\n",
    "    yt = YouTube(video_url)\n",
    "\n",
    "    yt.streams.filter(only_audio=True).first().download(filename=name + '.mp3')\n",
    "#    name = yt.title\n",
    "    print(\"Download completed\")\n",
    "    location = path + name + '.mp3'\n",
    "\n",
    "    # renmame_to_mp3 =  path + name + '.mp3'\n",
    "\n",
    "    print(\"Download location = \",location)\n",
    "\n",
    "    # # print(\"rename to mp3 = \",renmame_to_mp3)\n",
    "\n",
    "    # if os.name == 'nt':\n",
    "    \n",
    "    #     os.system('ren {0} {1}'.format(location, renmame_to_mp3))\n",
    "    # else:\n",
    "        \n",
    "    #     os.system('mv {0} {1}'.format(location, renmame_to_mp3))\n",
    "\n",
    "\n",
    "if __name__ == '__main__':\n",
    "\n",
    "    main()"
   ]
  }
 ],
 "metadata": {
  "interpreter": {
   "hash": "e2fb31f127fed1e79f709faf34890f85681c06e7e30d28a328e5c7500cdf6725"
  },
  "kernelspec": {
   "display_name": "Python 3.7.9 64-bit",
   "language": "python",
   "name": "python3"
  },
  "language_info": {
   "codemirror_mode": {
    "name": "ipython",
    "version": 3
   },
   "file_extension": ".py",
   "mimetype": "text/x-python",
   "name": "python",
   "nbconvert_exporter": "python",
   "pygments_lexer": "ipython3",
   "version": "3.7.9"
  },
  "orig_nbformat": 4
 },
 "nbformat": 4,
 "nbformat_minor": 2
}
